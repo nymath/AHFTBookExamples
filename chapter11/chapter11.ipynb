{
 "cells": [
  {
   "cell_type": "code",
   "execution_count": 18,
   "metadata": {
    "collapsed": true
   },
   "outputs": [],
   "source": [
    "import numpy as np\n",
    "import math"
   ]
  },
  {
   "cell_type": "code",
   "execution_count": 26,
   "outputs": [],
   "source": [
    "from scipy.integrate import quad\n",
    "\n",
    "def integrand(u, epsilon=0.2, rho=1, kappa=1, sigma=1, theta=1):\n",
    "    return u ** (rho/kappa -1) * np.exp(- np.sqrt( 2 * kappa / sigma**2)*(theta - epsilon)*u - 0.5*u**2)"
   ],
   "metadata": {
    "collapsed": false
   }
  },
  {
   "cell_type": "code",
   "execution_count": 27,
   "outputs": [],
   "source": [
    "f_tmp = lambda u: integrand(u)"
   ],
   "metadata": {
    "collapsed": false
   }
  },
  {
   "cell_type": "code",
   "execution_count": 31,
   "outputs": [
    {
     "name": "stdout",
     "output_type": "stream",
     "text": [
      "307 µs ± 26.2 µs per loop (mean ± std. dev. of 7 runs, 1000 loops each)\n"
     ]
    }
   ],
   "source": [
    "%timeit quad(f_tmp, 0, math.inf)"
   ],
   "metadata": {
    "collapsed": false
   }
  },
  {
   "cell_type": "code",
   "execution_count": 80,
   "outputs": [],
   "source": [
    "def F_plus(epsilon, rho=1, kappa=1, sigma=1, theta=1):\n",
    "    aux_func = lambda u:u ** (rho/kappa -1) * np.exp(- np.sqrt( 2 * kappa / sigma**2)*(theta - epsilon)*u - 0.5*u**2)\n",
    "    return quad(aux_func, 0, math.inf)[0]"
   ],
   "metadata": {
    "collapsed": false
   }
  },
  {
   "cell_type": "code",
   "execution_count": 81,
   "outputs": [],
   "source": [
    "def F_plus_grad(epsilon, rho=1, kappa=1, sigma=1, theta=1):\n",
    "    aux_func = lambda u: np.sqrt( 2 * kappa / sigma**2) * u ** (rho/kappa ) * np.exp(- np.sqrt( 2 * kappa / sigma**2)*(theta - epsilon)*u - 0.5*u**2)\n",
    "    return quad(aux_func, 0, math.inf)[0]"
   ],
   "metadata": {
    "collapsed": false
   }
  },
  {
   "cell_type": "code",
   "execution_count": 135,
   "outputs": [],
   "source": [
    "rho = 0.01\n",
    "kappa = 3\n",
    "sigma = 0.55\n",
    "theta = 0\n",
    "epsilon = 1\n",
    "aux_func = lambda u:(u ** (rho/kappa -1)) * np.exp(- np.sqrt( 2 * kappa) / sigma *(theta - epsilon)*u - 0.5*u**2)"
   ],
   "metadata": {
    "collapsed": false
   }
  },
  {
   "cell_type": "code",
   "execution_count": 136,
   "outputs": [
    {
     "data": {
      "text/plain": "(7.346894714160336e-05, 9.351576083735944e-10)"
     },
     "execution_count": 136,
     "metadata": {},
     "output_type": "execute_result"
    }
   ],
   "source": [
    "quad(aux_func, 10, 100)"
   ],
   "metadata": {
    "collapsed": false
   }
  },
  {
   "cell_type": "code",
   "execution_count": 137,
   "outputs": [],
   "source": [
    "from scipy.optimize import root"
   ],
   "metadata": {
    "collapsed": false
   }
  },
  {
   "cell_type": "code",
   "execution_count": 83,
   "outputs": [],
   "source": [
    "c = 0.01"
   ],
   "metadata": {
    "collapsed": false
   }
  },
  {
   "cell_type": "code",
   "execution_count": 140,
   "outputs": [],
   "source": [
    "def final_f(rho=1, kappa=1, sigma=1, theta=1):\n",
    "    aux_func = lambda x: (x-c)* F_plus_grad(x, rho, kappa, sigma, theta) - F_plus(x, rho, kappa, sigma, theta)\n",
    "    return root(aux_func, np.array(1))"
   ],
   "metadata": {
    "collapsed": false
   }
  },
  {
   "cell_type": "code",
   "execution_count": 141,
   "outputs": [
    {
     "name": "stderr",
     "output_type": "stream",
     "text": [
      "/var/folders/31/rx49cg9n64z7rn2vk4yd8d740000gn/T/ipykernel_10946/2552373483.py:3: IntegrationWarning: The algorithm does not converge.  Roundoff error is detected\n",
      "  in the extrapolation table.  It is assumed that the requested tolerance\n",
      "  cannot be achieved, and that the returned result (if full_output = 1) is \n",
      "  the best which can be obtained.\n",
      "  return quad(aux_func, 0, math.inf)[0]\n"
     ]
    },
    {
     "data": {
      "text/plain": "array([0.57264147])"
     },
     "execution_count": 141,
     "metadata": {},
     "output_type": "execute_result"
    }
   ],
   "source": [
    "final_f(rho=0.01, kappa=3, sigma=0.5, theta=0)[\"x\"]"
   ],
   "metadata": {
    "collapsed": false
   }
  },
  {
   "cell_type": "code",
   "execution_count": 126,
   "outputs": [
    {
     "data": {
      "text/plain": "1.2533141373155003"
     },
     "execution_count": 126,
     "metadata": {},
     "output_type": "execute_result"
    }
   ],
   "source": [
    "# Import the necessary libraries\n",
    "import numpy as np\n",
    "from scipy.special import gamma, hyp1f1\n",
    "\n",
    "# Redefine the parameters\n",
    "rho = 1\n",
    "kappa = 1\n",
    "sigma = 1\n",
    "theta = 1\n",
    "epsilon = 1\n",
    "\n",
    "# Check the condition\n",
    "if rho/kappa > 0:\n",
    "    # Compute the output\n",
    "    result = 2 ** (-1 + rho / (2 * kappa)) * \\\n",
    "             (gamma(rho / (2 * kappa)) * hyp1f1(rho / (2 * kappa), 1 / 2, (kappa * (epsilon - theta) ** 2) / sigma ** 2) + \\\n",
    "              2 * np.sqrt(kappa / sigma ** 2) * (epsilon - theta) * gamma((kappa + rho) / (2 * kappa)) * \\\n",
    "              hyp1f1((kappa + rho) / (2 * kappa), 3 / 2, (kappa * (epsilon - theta) ** 2) / sigma ** 2))\n",
    "else:\n",
    "    result = None\n",
    "\n",
    "result"
   ],
   "metadata": {
    "collapsed": false
   }
  },
  {
   "cell_type": "code",
   "execution_count": 125,
   "outputs": [
    {
     "data": {
      "text/plain": "1.2533141373154997"
     },
     "execution_count": 125,
     "metadata": {},
     "output_type": "execute_result"
    }
   ],
   "source": [
    "F_plus(1)"
   ],
   "metadata": {
    "collapsed": false
   }
  },
  {
   "cell_type": "code",
   "execution_count": null,
   "outputs": [],
   "source": [],
   "metadata": {
    "collapsed": false
   }
  },
  {
   "cell_type": "code",
   "execution_count": null,
   "outputs": [],
   "source": [],
   "metadata": {
    "collapsed": false
   }
  },
  {
   "cell_type": "code",
   "execution_count": 171,
   "outputs": [
    {
     "data": {
      "text/plain": "array([1.95367384])"
     },
     "execution_count": 171,
     "metadata": {},
     "output_type": "execute_result"
    }
   ],
   "source": [
    "from scipy.special import gamma, hyp1f1\n",
    "from scipy.optimize import brentq\n",
    "import numpy as np\n",
    "# Redefine the parameters\n",
    "rho = 0.01\n",
    "kappa = 0.5\n",
    "sigma = 0.5\n",
    "theta = 1\n",
    "c = 0.01\n",
    "\n",
    "# Define the function\n",
    "def F_plus(epsilon):\n",
    "    return 2 ** (-1 + rho / (2 * kappa)) * \\\n",
    "             (gamma(rho / (2 * kappa)) * hyp1f1(rho / (2 * kappa), 1 / 2, (kappa * (epsilon - theta) ** 2) / sigma ** 2) +\n",
    "              2 * np.sqrt(kappa / sigma ** 2) * (epsilon - theta) * gamma((kappa + rho) / (2 * kappa)) *\n",
    "              hyp1f1((kappa + rho) / (2 * kappa), 3 / 2, (kappa * (epsilon - theta) ** 2) / sigma ** 2))\n",
    "\n",
    "def F_plus_grad(epsilon):\n",
    "    return 2 ** (1/2 + 1/2 * (-1 + rho / kappa)) * np.sqrt(kappa / sigma ** 2) * \\\n",
    "           (gamma((kappa + rho) / (2 * kappa)) * hyp1f1((kappa + rho) / (2 * kappa), 1 / 2,\n",
    "                                                        (kappa * (epsilon - theta) ** 2) / sigma ** 2) +\n",
    "            2 * np.sqrt(kappa / sigma ** 2) * (epsilon - theta) * gamma(1 + rho / (2 * kappa)) *\n",
    "            hyp1f1(1 + rho / (2 * kappa), 3 / 2, (kappa * (epsilon - theta) ** 2) / sigma ** 2))\n",
    "\n",
    "tmp_func = lambda x: (x-c) * F_plus_grad(x) - F_plus(x)\n",
    "root(tmp_func, 1.5)[\"x\"]"
   ],
   "metadata": {
    "collapsed": false
   }
  },
  {
   "cell_type": "code",
   "execution_count": 176,
   "outputs": [
    {
     "data": {
      "text/plain": "array([2.71828183, 7.3890561 ])"
     },
     "execution_count": 176,
     "metadata": {},
     "output_type": "execute_result"
    }
   ],
   "source": [
    "hyp1f1([1,2],[1,2],[1,2])"
   ],
   "metadata": {
    "collapsed": false
   }
  },
  {
   "cell_type": "code",
   "execution_count": null,
   "outputs": [],
   "source": [],
   "metadata": {
    "collapsed": false
   }
  },
  {
   "cell_type": "code",
   "execution_count": 174,
   "outputs": [
    {
     "name": "stdout",
     "output_type": "stream",
     "text": [
      "CPU times: user 91 µs, sys: 10 µs, total: 101 µs\n",
      "Wall time: 104 µs\n"
     ]
    },
    {
     "data": {
      "text/plain": "50.0620967211079"
     },
     "execution_count": 174,
     "metadata": {},
     "output_type": "execute_result"
    }
   ],
   "source": [
    "%time F_plus(1)"
   ],
   "metadata": {
    "collapsed": false
   }
  },
  {
   "cell_type": "code",
   "execution_count": 175,
   "outputs": [
    {
     "name": "stdout",
     "output_type": "stream",
     "text": [
      "CPU times: user 1.76 ms, sys: 58 µs, total: 1.82 ms\n",
      "Wall time: 1.98 ms\n"
     ]
    },
    {
     "data": {
      "text/plain": "88057.03472267532"
     },
     "execution_count": 175,
     "metadata": {},
     "output_type": "execute_result"
    }
   ],
   "source": [
    "%time F_plus(1, rho=0.01, kappa=3, sigma=0.5, theta=0)"
   ],
   "metadata": {
    "collapsed": false
   }
  },
  {
   "cell_type": "code",
   "execution_count": 178,
   "outputs": [
    {
     "name": "stdout",
     "output_type": "stream",
     "text": [
      "[1.95367384 1.79561802 1.69430524 1.61777269]\n"
     ]
    }
   ],
   "source": [
    "import numpy as np\n",
    "from scipy.special import gamma, hyp1f1\n",
    "from scipy.optimize import brentq\n",
    "\n",
    "class ExitBand:\n",
    "    def __init__(self):\n",
    "        pass\n",
    "\n",
    "    def F_plus(self, epsilon, rho, kappa, sigma, theta):\n",
    "        return 2 ** (-1 + rho / (2 * kappa)) * \\\n",
    "                 (gamma(rho / (2 * kappa)) * hyp1f1(rho / (2 * kappa), 1 / 2, (kappa * (epsilon - theta) ** 2) / sigma ** 2) +\n",
    "                  2 * np.sqrt(kappa / sigma ** 2) * (epsilon - theta) * gamma((kappa + rho) / (2 * kappa)) *\n",
    "                  hyp1f1((kappa + rho) / (2 * kappa), 3 / 2, (kappa * (epsilon - theta) ** 2) / sigma ** 2))\n",
    "\n",
    "    def F_plus_grad(self, epsilon, rho, kappa, sigma, theta):\n",
    "        return 2 ** (1/2 + 1/2 * (-1 + rho / kappa)) * np.sqrt(kappa / sigma ** 2) * \\\n",
    "               (gamma((kappa + rho) / (2 * kappa)) * hyp1f1((kappa + rho) / (2 * kappa), 1 / 2,\n",
    "                                                                        (kappa * (epsilon - theta) ** 2) / sigma ** 2) +\n",
    "                2 * np.sqrt(kappa / sigma ** 2) * (epsilon - theta) * gamma(1 + rho / (2 * kappa)) *\n",
    "                hyp1f1(1 + rho / (2 * kappa), 3 / 2, (kappa * (epsilon - theta) ** 2) / sigma ** 2))\n",
    "\n",
    "    def find_root(self, rho=0.01, kappa=0.5, sigma=0.5, theta=1, c=0.01):\n",
    "        tmp_func = lambda x: (x-c) * self.F_plus_grad(x, rho, kappa, sigma, theta) - self.F_plus(x, rho, kappa, sigma, theta)\n",
    "        return brentq(tmp_func, 1.5, 2)  # assuming brentq's interval as [1.5, 2]\n",
    "\n",
    "# To use the class\n",
    "rf = ExitBand()\n",
    "\n",
    "vectorized_find_root = np.vectorize(rf.find_root)\n",
    "\n",
    "# Suppose you have an array of rho values and you want to find the root for each of them\n",
    "rho_values = np.array([0.01, 0.02, 0.03, 0.04])\n",
    "roots = vectorized_find_root(rho=rho_values, kappa=0.5, sigma=0.5, theta=1, c=0.01)\n",
    "print(roots)\n"
   ],
   "metadata": {
    "collapsed": false
   }
  },
  {
   "cell_type": "code",
   "execution_count": null,
   "outputs": [],
   "source": [],
   "metadata": {
    "collapsed": false
   }
  }
 ],
 "metadata": {
  "kernelspec": {
   "display_name": "Python 3",
   "language": "python",
   "name": "python3"
  },
  "language_info": {
   "codemirror_mode": {
    "name": "ipython",
    "version": 2
   },
   "file_extension": ".py",
   "mimetype": "text/x-python",
   "name": "python",
   "nbconvert_exporter": "python",
   "pygments_lexer": "ipython2",
   "version": "2.7.6"
  }
 },
 "nbformat": 4,
 "nbformat_minor": 0
}
